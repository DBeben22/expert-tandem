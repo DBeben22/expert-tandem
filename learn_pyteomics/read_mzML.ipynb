{
 "cells": [
  {
   "cell_type": "code",
   "id": "initial_id",
   "metadata": {
    "collapsed": true,
    "ExecuteTime": {
     "end_time": "2025-05-08T11:00:19.348578Z",
     "start_time": "2025-05-08T11:00:18.015517Z"
    }
   },
   "source": [
    "from pyteomics import mzml\n",
    "import psims\n",
    "import lxml\n",
    "import pandas as pd\n",
    "import numpy as np\n",
    "import matplotlib.pyplot as plt\n",
    "from pyteomics import pylab_aux as pa, usi"
   ],
   "outputs": [],
   "execution_count": 2
  },
  {
   "metadata": {
    "ExecuteTime": {
     "end_time": "2025-05-08T11:27:21.270276Z",
     "start_time": "2025-05-08T11:27:21.265085Z"
    }
   },
   "cell_type": "code",
   "source": "file_path = '..\\\\data\\\\2015-05-19_MRC5_a.mzML'",
   "id": "411cf4baea09f4b2",
   "outputs": [],
   "execution_count": 30
  },
  {
   "metadata": {
    "ExecuteTime": {
     "end_time": "2025-05-08T12:07:28.622155Z",
     "start_time": "2025-05-08T12:07:24.900536Z"
    }
   },
   "cell_type": "code",
   "source": [
    "with mzml.MzML(file_path) as reader:\n",
    "    for spectrum in reader:\n",
    "        print(spectrum[\"index\"])\n",
    "        # Look for an MS/MS spectrum (ms level 2)\n",
    "        if spectrum.get('ms level') == 2:\n",
    "            # Extract relevant information\n",
    "            mz_array = spectrum['m/z array']\n",
    "            intensity_array = spectrum['intensity array']\n",
    "            precursor_mz = spectrum['precursorList']['precursor'][0]['selectedIonList']['selectedIon'][0]['selected ion m/z']\n",
    "\n",
    "            print(f\"Precursor m/z: {precursor_mz}\")\n",
    "            print(f\"Number of fragment peaks: {len(mz_array)}\")\n",
    "\n",
    "\n",
    "            plotting_dict = {'m/z array': mz_array, 'intensity array': intensity_array}\n",
    "            peptide = (\"C\")\n",
    "            # 'CHAANPNGR'\n",
    "\n",
    "            pa.annotate_spectrum(plotting_dict, peptide, precursor_charge=2, backend='default',\n",
    "                ion_types='aby', title=\"no idea\")\n",
    "            plt.show()\n",
    "\n",
    "            # Stop after first MS2 spectrum\n",
    "            break\n"
   ],
   "id": "182fc4029ccf9fb2",
   "outputs": [
    {
     "name": "stdout",
     "output_type": "stream",
     "text": [
      "0\n",
      "1\n",
      "Precursor m/z: 412.771563708782\n",
      "Number of fragment peaks: 16\n"
     ]
    },
    {
     "data": {
      "text/plain": [
       "<Figure size 640x480 with 1 Axes>"
      ],
      "image/png": "[encoded data removed]"
     },
     "metadata": {},
     "output_type": "display_data"
    }
   ],
   "execution_count": 54
  },
  {
   "metadata": {
    "ExecuteTime": {
     "end_time": "2025-05-08T12:07:35.134539Z",
     "start_time": "2025-05-08T12:07:35.118779Z"
    }
   },
   "cell_type": "code",
   "source": "spectrum",
   "id": "97c461a22122a352",
   "outputs": [
    {
     "data": {
      "text/plain": [
       "{'index': 1,\n",
       " 'id': 'controllerType=0 controllerNumber=1 scan=2',\n",
       " 'defaultArrayLength': 16,\n",
       " 'scanList': {'count': 1,\n",
       "  'scan': [{'scanWindowList': {'count': 1,\n",
       "     'scanWindow': [{'scan window lower limit': 120.0 m/z,\n",
       "       'scan window upper limit': 860.0 m/z}]},\n",
       "    'scan start time': 0.010054731 minute,\n",
       "    'mass resolving power': 17500.0,\n",
       "    'filter string': 'FTMS + c NSI d Full ms2 412.77@hcd27.00 [120.00-860.00]',\n",
       "    'preset scan configuration': 2.0,\n",
       "    'ion injection time': 50.000000745058 millisecond,\n",
       "    '[Thermo Trailer Extra]Monoisotopic M/Z:': 0.0}],\n",
       "  'no combination': ''},\n",
       " 'precursorList': {'count': 1,\n",
       "  'precursor': [{'spectrumRef': 'controllerType=0 controllerNumber=1 scan=1',\n",
       "    'isolationWindow': {'isolation window target m/z': 412.771563708782 m/z,\n",
       "     'isolation window lower offset': 0.800000011921 m/z,\n",
       "     'isolation window upper offset': 0.800000011921 m/z,\n",
       "     'ms level': 1},\n",
       "    'selectedIonList': {'count': 1,\n",
       "     'selectedIon': [{'selected ion m/z': 412.771563708782 m/z,\n",
       "       'charge state': 2,\n",
       "       'peak intensity': 148734.7232056 number of detector counts}]},\n",
       "    'activation': {'beam-type collision-induced dissociation': '',\n",
       "     'collision energy': 27.0 electronvolt}}]},\n",
       " 'MSn spectrum': '',\n",
       " 'ms level': 2,\n",
       " 'positive scan': '',\n",
       " 'centroid spectrum': '',\n",
       " 'base peak m/z': 386.7855727 m/z,\n",
       " 'base peak intensity': 9180.9316 number of detector counts,\n",
       " 'total ion current': 45869.398,\n",
       " 'lowest observed m/z': 180.776947021484 m/z,\n",
       " 'highest observed m/z': 430.779205322266 m/z,\n",
       " 'spectrum title': '2015-05-19_MRC5_a.2.2.2 File:\"2015-05-19_MRC5_a.raw\", NativeID:\"controllerType=0 controllerNumber=1 scan=2\"',\n",
       " 'count': 2,\n",
       " 'm/z array': array([180.77694702, 186.99243164, 247.72344971, 257.27392578,\n",
       "        287.69580078, 340.79873657, 354.7767334 , 356.77609253,\n",
       "        358.79003906, 367.78808594, 368.77597046, 384.77484131,\n",
       "        386.7855835 , 412.76983643, 413.78115845, 430.77920532]),\n",
       " 'intensity array': array([1240.1529541 , 1358.31982422, 1477.13500977, 1549.75842285,\n",
       "        1326.09143066, 2547.85083008, 1546.97827148, 3474.54272461,\n",
       "        5367.64990234, 1438.44934082, 3170.71948242, 2573.04418945,\n",
       "        9180.93164062, 3565.81323242, 2649.07739258, 3402.87915039])}"
      ]
     },
     "execution_count": 55,
     "metadata": {},
     "output_type": "execute_result"
    }
   ],
   "execution_count": 55
  },
  {
   "metadata": {
    "ExecuteTime": {
     "end_time": "2025-05-08T11:04:48.529116Z",
     "start_time": "2025-05-08T11:04:47.278947Z"
    }
   },
   "cell_type": "code",
   "source": "pa.plot_spectrum(plotting_dict)",
   "id": "c8c8ce981d502204",
   "outputs": [
    {
     "data": {
      "text/plain": [
       "<Axes: xlabel='m/z', ylabel='intensity'>"
      ]
     },
     "execution_count": 21,
     "metadata": {},
     "output_type": "execute_result"
    },
    {
     "data": {
      "text/plain": [
       "<Figure size 640x480 with 1 Axes>"
      ],
      "image/png": "[encoded data removed]"
     },
     "metadata": {},
     "output_type": "display_data"
    }
   ],
   "execution_count": 21
  },
  {
   "metadata": {
    "ExecuteTime": {
     "end_time": "2025-05-08T11:15:31.884813Z",
     "start_time": "2025-05-08T11:15:00.436158Z"
    }
   },
   "cell_type": "code",
   "source": [
    "with mzml.MzML(file_path) as reader:\n",
    "    # Count spectra\n",
    "    num_spectra = sum(1 for _ in reader)\n",
    "    print(f\"Number of spectra: {num_spectra}\")\n",
    "\n",
    "    # Reset reader and inspect first few spectra\n",
    "    reader.reset()\n",
    "    for i, spectrum in enumerate(reader):\n",
    "        print(f\"\\nSpectrum {i+1}:\")\n",
    "        print(f\"ID: {spectrum.get('id')}\")\n",
    "        print(f\"MS level: {spectrum.get('ms level')}\")\n",
    "        print(f\"m/z array (first 5): {spectrum['m/z array'][:5]}\")\n",
    "        print(f\"intensity array (first 5): {spectrum['intensity array'][:5]}\")\n",
    "        if i == 4:  # show first 5 spectra\n",
    "            break\n"
   ],
   "id": "e8c7649a9f8f9af4",
   "outputs": [
    {
     "name": "stdout",
     "output_type": "stream",
     "text": [
      "Number of spectra: 31282\n",
      "\n",
      "Spectrum 1:\n",
      "ID: controllerType=0 controllerNumber=1 scan=1\n",
      "MS level: 1\n",
      "m/z array (first 5): [396.02452691 396.02639582 396.02826475 396.03013369 400.24810388]\n",
      "intensity array (first 5): [0. 0. 0. 0. 0.]\n",
      "\n",
      "Spectrum 2:\n",
      "ID: controllerType=0 controllerNumber=1 scan=2\n",
      "MS level: 2\n",
      "m/z array (first 5): [180.77694702 186.99243164 247.72344971 257.27392578 287.69580078]\n",
      "intensity array (first 5): [1240.1529541  1358.31982422 1477.13500977 1549.75842285 1326.09143066]\n",
      "\n",
      "Spectrum 3:\n",
      "ID: controllerType=0 controllerNumber=1 scan=3\n",
      "MS level: 2\n",
      "m/z array (first 5): [135.10839844 135.11817932 135.47593689 170.59277344 197.29083252]\n",
      "intensity array (first 5): [1399.22961426 1630.14685059 1313.6998291  1507.44543457 1736.26367188]\n",
      "\n",
      "Spectrum 4:\n",
      "ID: controllerType=0 controllerNumber=1 scan=4\n",
      "MS level: 2\n",
      "m/z array (first 5): [158.2485199  192.25003052 476.18200684 521.35595703 709.54302979]\n",
      "intensity array (first 5): [1790.96032715 2108.24975586 1993.62670898 1881.46984863 2475.07910156]\n",
      "\n",
      "Spectrum 5:\n",
      "ID: controllerType=0 controllerNumber=1 scan=5\n",
      "MS level: 2\n",
      "m/z array (first 5): [167.41781616 230.41412354 241.27778625 436.74301147 547.47906494]\n",
      "intensity array (first 5): [1783.43212891 1832.26342773 1928.42224121 2053.97558594 2016.37597656]\n"
     ]
    }
   ],
   "execution_count": 24
  },
  {
   "metadata": {
    "ExecuteTime": {
     "end_time": "2025-05-08T11:27:51.340222Z",
     "start_time": "2025-05-08T11:27:48.525369Z"
    }
   },
   "cell_type": "code",
   "source": [
    "with mzml.MzML(file_path, use_index=True) as reader:\n",
    "    spectrum_id = 'controllerType=0 controllerNumber=1 scan=1'  # example\n",
    "    spectrum = reader[spectrum_id]\n",
    "    mz_array = spectrum['m/z array']\n",
    "    intensity_array = spectrum['intensity array']\n",
    "    plotting_dict = {'m/z array': mz_array, 'intensity array': intensity_array}\n"
   ],
   "id": "258658ea71d51a37",
   "outputs": [],
   "execution_count": 31
  },
  {
   "metadata": {
    "ExecuteTime": {
     "end_time": "2025-05-08T11:35:13.771475Z",
     "start_time": "2025-05-08T11:34:58.497377Z"
    }
   },
   "cell_type": "code",
   "source": "pa.plot_spectrum(plotting_dict,title= \"MS1\")",
   "id": "8c3d5ab6ff2a5c3f",
   "outputs": [
    {
     "data": {
      "text/plain": [
       "<Axes: title={'center': 'MS1'}, xlabel='m/z', ylabel='intensity'>"
      ]
     },
     "execution_count": 33,
     "metadata": {},
     "output_type": "execute_result"
    },
    {
     "data": {
      "text/plain": [
       "<Figure size 640x480 with 1 Axes>"
      ],
      "image/png": "[encoded data removed]"
     },
     "metadata": {},
     "output_type": "display_data"
    }
   ],
   "execution_count": 33
  },
  {
   "metadata": {},
   "cell_type": "markdown",
   "source": "# mapping ids tsv\n",
   "id": "1358add3f84eb169"
  },
  {
   "metadata": {
    "ExecuteTime": {
     "end_time": "2025-05-08T12:01:08.597915Z",
     "start_time": "2025-05-08T12:01:06.346480Z"
    }
   },
   "cell_type": "code",
   "source": "df = pd.read_csv('../data/multiSampleDB_mapping_ids.tsv', sep='\\t', header=0)",
   "id": "752b98e17f20de7f",
   "outputs": [],
   "execution_count": 47
  },
  {
   "metadata": {
    "ExecuteTime": {
     "end_time": "2025-05-08T12:01:13.452953Z",
     "start_time": "2025-05-08T12:01:13.432253Z"
    }
   },
   "cell_type": "code",
   "source": "df.head()",
   "id": "f30e6ee9a2b89044",
   "outputs": [
    {
     "data": {
      "text/plain": [
       "  sample pipeline_branch                      sequence_md5  \\\n",
       "0   MRC5     VEP:Inframe  ddd780504d4f3648b293c8f5b5d09756   \n",
       "1   MRC5     VEP:Inframe  adc553d338029cdde6008b0a87a8d5f6   \n",
       "2   MRC5     VEP:Inframe  ddd780504d4f3648b293c8f5b5d09756   \n",
       "3   MRC5     VEP:Inframe  fc5d4bbaa634f0d6e4d05f6b79d8ec2a   \n",
       "4   MRC5     VEP:Inframe  4583fc2573a3a9ce3719c2000234dc16   \n",
       "\n",
       "                               original_fasta_header additional_info  \n",
       "0  VEP:Inframe:ENSG00000000457,ENST00000367770,VA...             NaN  \n",
       "1  VEP:Inframe:ENSG00000000457,ENST00000367771,VA...             NaN  \n",
       "2  VEP:Inframe:ENSG00000000457,ENST00000367772,VA...             NaN  \n",
       "3  VEP:Inframe:ENSG00000000457,ENST00000423670,VA...             NaN  \n",
       "4  VEP:Inframe:ENSG00000000971,ENST00000359637,VA...             NaN  "
      ],
      "text/html": [
       "<div>\n",
       "<style scoped>\n",
       "    .dataframe tbody tr th:only-of-type {\n",
       "        vertical-align: middle;\n",
       "    }\n",
       "\n",
       "    .dataframe tbody tr th {\n",
       "        vertical-align: top;\n",
       "    }\n",
       "\n",
       "    .dataframe thead th {\n",
       "        text-align: right;\n",
       "    }\n",
       "</style>\n",
       "<table border=\"1\" class=\"dataframe\">\n",
       "  <thead>\n",
       "    <tr style=\"text-align: right;\">\n",
       "      <th></th>\n",
       "      <th>sample</th>\n",
       "      <th>pipeline_branch</th>\n",
       "      <th>sequence_md5</th>\n",
       "      <th>original_fasta_header</th>\n",
       "      <th>additional_info</th>\n",
       "    </tr>\n",
       "  </thead>\n",
       "  <tbody>\n",
       "    <tr>\n",
       "      <th>0</th>\n",
       "      <td>MRC5</td>\n",
       "      <td>VEP:Inframe</td>\n",
       "      <td>ddd780504d4f3648b293c8f5b5d09756</td>\n",
       "      <td>VEP:Inframe:ENSG00000000457,ENST00000367770,VA...</td>\n",
       "      <td>NaN</td>\n",
       "    </tr>\n",
       "    <tr>\n",
       "      <th>1</th>\n",
       "      <td>MRC5</td>\n",
       "      <td>VEP:Inframe</td>\n",
       "      <td>adc553d338029cdde6008b0a87a8d5f6</td>\n",
       "      <td>VEP:Inframe:ENSG00000000457,ENST00000367771,VA...</td>\n",
       "      <td>NaN</td>\n",
       "    </tr>\n",
       "    <tr>\n",
       "      <th>2</th>\n",
       "      <td>MRC5</td>\n",
       "      <td>VEP:Inframe</td>\n",
       "      <td>ddd780504d4f3648b293c8f5b5d09756</td>\n",
       "      <td>VEP:Inframe:ENSG00000000457,ENST00000367772,VA...</td>\n",
       "      <td>NaN</td>\n",
       "    </tr>\n",
       "    <tr>\n",
       "      <th>3</th>\n",
       "      <td>MRC5</td>\n",
       "      <td>VEP:Inframe</td>\n",
       "      <td>fc5d4bbaa634f0d6e4d05f6b79d8ec2a</td>\n",
       "      <td>VEP:Inframe:ENSG00000000457,ENST00000423670,VA...</td>\n",
       "      <td>NaN</td>\n",
       "    </tr>\n",
       "    <tr>\n",
       "      <th>4</th>\n",
       "      <td>MRC5</td>\n",
       "      <td>VEP:Inframe</td>\n",
       "      <td>4583fc2573a3a9ce3719c2000234dc16</td>\n",
       "      <td>VEP:Inframe:ENSG00000000971,ENST00000359637,VA...</td>\n",
       "      <td>NaN</td>\n",
       "    </tr>\n",
       "  </tbody>\n",
       "</table>\n",
       "</div>"
      ]
     },
     "execution_count": 49,
     "metadata": {},
     "output_type": "execute_result"
    }
   ],
   "execution_count": 49
  },
  {
   "metadata": {
    "ExecuteTime": {
     "end_time": "2025-05-08T12:02:08.214874Z",
     "start_time": "2025-05-08T12:02:08.187331Z"
    }
   },
   "cell_type": "code",
   "source": "df[df[\"sequence_md5\"]==\"ddd780504d4f3648b293c8f5b5d09756\"]",
   "id": "2b2181517586ad2b",
   "outputs": [
    {
     "data": {
      "text/plain": [
       "  sample pipeline_branch                      sequence_md5  \\\n",
       "0   MRC5     VEP:Inframe  ddd780504d4f3648b293c8f5b5d09756   \n",
       "2   MRC5     VEP:Inframe  ddd780504d4f3648b293c8f5b5d09756   \n",
       "\n",
       "                               original_fasta_header additional_info  \n",
       "0  VEP:Inframe:ENSG00000000457,ENST00000367770,VA...             NaN  \n",
       "2  VEP:Inframe:ENSG00000000457,ENST00000367772,VA...             NaN  "
      ],
      "text/html": [
       "<div>\n",
       "<style scoped>\n",
       "    .dataframe tbody tr th:only-of-type {\n",
       "        vertical-align: middle;\n",
       "    }\n",
       "\n",
       "    .dataframe tbody tr th {\n",
       "        vertical-align: top;\n",
       "    }\n",
       "\n",
       "    .dataframe thead th {\n",
       "        text-align: right;\n",
       "    }\n",
       "</style>\n",
       "<table border=\"1\" class=\"dataframe\">\n",
       "  <thead>\n",
       "    <tr style=\"text-align: right;\">\n",
       "      <th></th>\n",
       "      <th>sample</th>\n",
       "      <th>pipeline_branch</th>\n",
       "      <th>sequence_md5</th>\n",
       "      <th>original_fasta_header</th>\n",
       "      <th>additional_info</th>\n",
       "    </tr>\n",
       "  </thead>\n",
       "  <tbody>\n",
       "    <tr>\n",
       "      <th>0</th>\n",
       "      <td>MRC5</td>\n",
       "      <td>VEP:Inframe</td>\n",
       "      <td>ddd780504d4f3648b293c8f5b5d09756</td>\n",
       "      <td>VEP:Inframe:ENSG00000000457,ENST00000367770,VA...</td>\n",
       "      <td>NaN</td>\n",
       "    </tr>\n",
       "    <tr>\n",
       "      <th>2</th>\n",
       "      <td>MRC5</td>\n",
       "      <td>VEP:Inframe</td>\n",
       "      <td>ddd780504d4f3648b293c8f5b5d09756</td>\n",
       "      <td>VEP:Inframe:ENSG00000000457,ENST00000367772,VA...</td>\n",
       "      <td>NaN</td>\n",
       "    </tr>\n",
       "  </tbody>\n",
       "</table>\n",
       "</div>"
      ]
     },
     "execution_count": 52,
     "metadata": {},
     "output_type": "execute_result"
    }
   ],
   "execution_count": 52
  },
  {
   "metadata": {
    "ExecuteTime": {
     "end_time": "2025-05-08T11:49:47.794509Z",
     "start_time": "2025-05-08T11:49:47.782271Z"
    }
   },
   "cell_type": "code",
   "source": "len(df)",
   "id": "8ef7d499b180d63a",
   "outputs": [
    {
     "data": {
      "text/plain": [
       "257142"
      ]
     },
     "execution_count": 37,
     "metadata": {},
     "output_type": "execute_result"
    }
   ],
   "execution_count": 37
  },
  {
   "metadata": {
    "ExecuteTime": {
     "end_time": "2025-05-08T11:50:34.783506Z",
     "start_time": "2025-05-08T11:50:34.767518Z"
    }
   },
   "cell_type": "code",
   "source": [
    "from io import StringIO\n",
    "TESTDATA = StringIO(df[\"original_fasta_header\"].iloc[6])\n",
    "df1 = pd.read_csv(TESTDATA).to_dict()"
   ],
   "id": "5a0fa09accab55f4",
   "outputs": [],
   "execution_count": 40
  },
  {
   "metadata": {
    "ExecuteTime": {
     "end_time": "2025-05-08T11:52:02.655099Z",
     "start_time": "2025-05-08T11:52:02.647519Z"
    }
   },
   "cell_type": "code",
   "source": "df1",
   "id": "bf3c1853b901be4b",
   "outputs": [
    {
     "data": {
      "text/plain": [
       "{'VEP:Inframe:ENSG00000000971': {},\n",
       " 'ENST00000367429': {},\n",
       " 'VAR1': {},\n",
       " '1_196685238_-/TGAAACCTTGTGATTATCCAGACATTAAACATGGAGGTCTATATCATGAGAATATGC': {},\n",
       " '1039-1040': {},\n",
       " 'ttg964-965tTGAAACCTTGTGATTATCCAGACATTAAACATGGAGGTCTATATCATGAGAATATGCtg': {},\n",
       " 'L322LKPCDYPDIKHGGLYHENML': {},\n",
       " 'splice_region_variant_inframe_insertion': {},\n",
       " 'known_variant_ID:-': {},\n",
       " 'IMPACT=MODERATE;STRAND=1;VARIANT_CLASS=insertion;SYMBOL=CFH;SYMBOL_SOURCE=HGNC;HGNC_ID=HGNC:4883;BIOTYPE=protein_coding;CANONICAL=YES;MANE_SELECT=NM_000186.4;TSL=1;APPRIS=P2;CCDS=CCDS1385.1;ENSP=ENSP00000356399;SWISSPROT=P08603.248;TREMBL=A0A024R962.62;UNIPARC=UPI000013C4D1;GENE_PHENO=1;DOMAINS=PDB-ENSP_mappings:1haq.A': {},\n",
       " 'Gene3D:2.10.70.10': {},\n",
       " 'PDB-ENSP_mappings:2ic4.A': {},\n",
       " 'PDB-ENSP_mappings:2qfg.A': {},\n",
       " 'PDB-ENSP_mappings:2uwn.A': {},\n",
       " 'PDB-ENSP_mappings:2v8e.A': {},\n",
       " 'PDB-ENSP_mappings:2w80.A': {},\n",
       " 'PDB-ENSP_mappings:2w80.B': {},\n",
       " 'PDB-ENSP_mappings:2w80.E': {},\n",
       " 'PDB-ENSP_mappings:2w80.G': {},\n",
       " 'PDB-ENSP_mappings:2w81.A': {},\n",
       " 'PDB-ENSP_mappings:2w81.B': {},\n",
       " 'PDB-ENSP_mappings:2w81.E': {},\n",
       " 'PDB-ENSP_mappings:3gau.A': {},\n",
       " 'PDB-ENSP_mappings:3gav.A': {},\n",
       " 'PDB-ENSP_mappings:3gaw.A': {},\n",
       " 'PDB-ENSP_mappings:4ayd.A': {},\n",
       " 'PDB-ENSP_mappings:4ayd.B': {},\n",
       " 'PDB-ENSP_mappings:4ayd.E': {},\n",
       " 'PDB-ENSP_mappings:4aye.A': {},\n",
       " 'PDB-ENSP_mappings:4aye.B': {},\n",
       " 'PDB-ENSP_mappings:4aye.E': {},\n",
       " 'PDB-ENSP_mappings:4ayi.A': {},\n",
       " 'PDB-ENSP_mappings:4ayi.E': {},\n",
       " 'PDB-ENSP_mappings:4aym.A': {},\n",
       " 'PDB-ENSP_mappings:4aym.B': {},\n",
       " 'PDB-ENSP_mappings:4aym.E': {},\n",
       " 'PDB-ENSP_mappings:4aym.F': {},\n",
       " 'PDB-ENSP_mappings:5o32.C': {},\n",
       " 'PDB-ENSP_mappings:5o32.G': {},\n",
       " 'PDB-ENSP_mappings:5o35.C': {},\n",
       " 'PDB-ENSP_mappings:7zjm.B': {},\n",
       " 'AlphaFold_DB_import:AF-P08603-F1': {},\n",
       " 'PROSITE_profiles:PS50923': {},\n",
       " 'Superfamily:SSF57535;HGVSc=ENST00000367429.9:c.964_964+1insTGAAACCTTGTGATTATCCAGACATTAAACATGGAGGTCTATATCATGAGAATATGC;HGVSp=ENSP00000356399.4:p.Leu322_Met340dup_ENSP00000356399.4 pep chromosome:GRCh38:1:196652043:196747504:1 gene:ENSG00000000971.17 transcript:ENST00000367429.9 gene_biotype:protein_coding transcript_biotype:protein_coding gene_symbol:CFH description:complement factor H [Source:HGNC Symbol;Acc:HGNC:4883]': {}}"
      ]
     },
     "execution_count": 42,
     "metadata": {},
     "output_type": "execute_result"
    }
   ],
   "execution_count": 42
  },
  {
   "metadata": {},
   "cell_type": "markdown",
   "source": "# fasta file",
   "id": "d3ff5e4e8cba1ce4"
  },
  {
   "metadata": {
    "ExecuteTime": {
     "end_time": "2025-05-08T11:59:04.871307Z",
     "start_time": "2025-05-08T11:59:04.856399Z"
    }
   },
   "cell_type": "code",
   "source": "fasta_file = \"../fasta_files/multiSampleDB.fasta\"",
   "id": "d100294fee173a79",
   "outputs": [],
   "execution_count": 44
  },
  {
   "metadata": {
    "ExecuteTime": {
     "end_time": "2025-05-08T12:01:58.147726Z",
     "start_time": "2025-05-08T12:01:58.139216Z"
    }
   },
   "cell_type": "code",
   "source": [
    "from Bio import SeqIO\n",
    "\n",
    "for record in SeqIO.parse(fasta_file, 'fasta'):\n",
    "    print(f\"ID: {record.id}\")\n",
    "    print(f\"Description: {record.description}\")\n",
    "    print(f\"Sequence: {record.seq[:50]}...\")  # print first 50 bases\n",
    "    break"
   ],
   "id": "6d3fd40b0bfd9be9",
   "outputs": [
    {
     "name": "stdout",
     "output_type": "stream",
     "text": [
      "ID: ddd780504d4f3648b293c8f5b5d09756\n",
      "Description: ddd780504d4f3648b293c8f5b5d09756\n",
      "Sequence: MGSENSALKSYTLREPPFTLPSGLAVYPAVLQDGKFASVFVYKRENEDKV...\n"
     ]
    }
   ],
   "execution_count": 51
  },
  {
   "metadata": {},
   "cell_type": "code",
   "outputs": [],
   "execution_count": null,
   "source": "",
   "id": "20f47c88366e0430"
  }
 ],
 "metadata": {
  "kernelspec": {
   "display_name": "Python 3",
   "language": "python",
   "name": "python3"
  },
  "language_info": {
   "codemirror_mode": {
    "name": "ipython",
    "version": 2
   },
   "file_extension": ".py",
   "mimetype": "text/x-python",
   "name": "python",
   "nbconvert_exporter": "python",
   "pygments_lexer": "ipython2",
   "version": "2.7.6"
  }
 },
 "nbformat": 4,
 "nbformat_minor": 5
}
