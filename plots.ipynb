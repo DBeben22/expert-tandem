{
 "cells": [
  {
   "metadata": {
    "ExecuteTime": {
     "end_time": "2025-05-04T14:35:21.389355Z",
     "start_time": "2025-05-04T14:35:21.384090Z"
    }
   },
   "cell_type": "code",
   "source": [
    "import pandas as pd\n",
    "import numpy as np\n",
    "import matplotlib.pyplot as plt\n",
    "import helpers as hp\n",
    "import seaborn as sns\n",
    "import importlib"
   ],
   "id": "initial_id",
   "outputs": [],
   "execution_count": 1
  },
  {
   "metadata": {
    "ExecuteTime": {
     "end_time": "2025-05-04T14:34:42.846252Z",
     "start_time": "2025-05-04T14:34:42.831974Z"
    }
   },
   "cell_type": "code",
   "source": [
    "path = \"mass_spec_tsv_files/spec_guest_20250420-050520-325.tsv\"\n",
    "df = pd.read_csv(path, sep='\\t', header=0)\n",
    "df.head()"
   ],
   "id": "dc00ff8453062378",
   "outputs": [
    {
     "data": {
      "text/plain": [
       "        m/z   intensity\n",
       "0  110.0713  29422.7891\n",
       "1  112.0868   4282.5659\n",
       "2  113.0709   1195.4149\n",
       "3  114.2358    821.0837\n",
       "4  115.0865   9551.1641"
      ],
      "text/html": [
       "<div>\n",
       "<style scoped>\n",
       "    .dataframe tbody tr th:only-of-type {\n",
       "        vertical-align: middle;\n",
       "    }\n",
       "\n",
       "    .dataframe tbody tr th {\n",
       "        vertical-align: top;\n",
       "    }\n",
       "\n",
       "    .dataframe thead th {\n",
       "        text-align: right;\n",
       "    }\n",
       "</style>\n",
       "<table border=\"1\" class=\"dataframe\">\n",
       "  <thead>\n",
       "    <tr style=\"text-align: right;\">\n",
       "      <th></th>\n",
       "      <th>m/z</th>\n",
       "      <th>intensity</th>\n",
       "    </tr>\n",
       "  </thead>\n",
       "  <tbody>\n",
       "    <tr>\n",
       "      <th>0</th>\n",
       "      <td>110.0713</td>\n",
       "      <td>29422.7891</td>\n",
       "    </tr>\n",
       "    <tr>\n",
       "      <th>1</th>\n",
       "      <td>112.0868</td>\n",
       "      <td>4282.5659</td>\n",
       "    </tr>\n",
       "    <tr>\n",
       "      <th>2</th>\n",
       "      <td>113.0709</td>\n",
       "      <td>1195.4149</td>\n",
       "    </tr>\n",
       "    <tr>\n",
       "      <th>3</th>\n",
       "      <td>114.2358</td>\n",
       "      <td>821.0837</td>\n",
       "    </tr>\n",
       "    <tr>\n",
       "      <th>4</th>\n",
       "      <td>115.0865</td>\n",
       "      <td>9551.1641</td>\n",
       "    </tr>\n",
       "  </tbody>\n",
       "</table>\n",
       "</div>"
      ]
     },
     "execution_count": 12,
     "metadata": {},
     "output_type": "execute_result"
    }
   ],
   "execution_count": 12
  },
  {
   "metadata": {},
   "cell_type": "markdown",
   "source": "# Peters plot approach",
   "id": "bdd5e18231df4c53"
  },
  {
   "metadata": {
    "ExecuteTime": {
     "end_time": "2025-05-04T14:34:44.038204Z",
     "start_time": "2025-05-04T14:34:44.020028Z"
    }
   },
   "cell_type": "code",
   "source": "hp.plot_msSpectra(df[\"m/z\"],df[\"intensity\"])",
   "id": "a5bc77cfdf9326cc",
   "outputs": [],
   "execution_count": 14
  },
  {
   "metadata": {},
   "cell_type": "code",
   "outputs": [
    {
     "data": {
      "text/plain": [
       "<module 'helpers' from 'C:\\\\Users\\\\TheSh\\\\Documents\\\\Programming_in_Python_Class\\\\PyCharmProjects\\\\expert-tandem\\\\helpers.py'>"
      ]
     },
     "execution_count": 13,
     "metadata": {},
     "output_type": "execute_result"
    }
   ],
   "execution_count": 13,
   "source": "importlib.reload(hp)",
   "id": "5145424936a646a9"
  },
  {
   "metadata": {},
   "cell_type": "markdown",
   "source": [
    "# MassSpectraPlot\n",
    "looks pretty and fits well into latex. <br>\n",
    "dont know how good it is at identifying peaks and such in difficult situations. <br>\n",
    "lets you annotate and do cool shit. <br>"
   ],
   "id": "dfd41630487be59c"
  },
  {
   "metadata": {
    "ExecuteTime": {
     "end_time": "2025-05-04T14:32:52.937459Z",
     "start_time": "2025-05-04T14:32:52.923525Z"
    }
   },
   "cell_type": "code",
   "source": "import MassSpectraPlot as msp",
   "id": "dcfc763f83f4f073",
   "outputs": [],
   "execution_count": 4
  },
  {
   "metadata": {
    "ExecuteTime": {
     "end_time": "2025-05-03T14:18:47.246690Z",
     "start_time": "2025-05-03T14:18:47.172537Z"
    }
   },
   "cell_type": "code",
   "source": "importlib.reload(msp)",
   "id": "703ac6c986758815",
   "outputs": [
    {
     "data": {
      "text/plain": [
       "<module 'MassSpectraPlot' from 'C:\\\\Users\\\\TheSh\\\\Documents\\\\Programming_in_Python_Class\\\\PyCharmProjects\\\\expert-tandem\\\\MassSpectraPlot.py'>"
      ]
     },
     "execution_count": 64,
     "metadata": {},
     "output_type": "execute_result"
    }
   ],
   "execution_count": 64
  },
  {
   "metadata": {
    "ExecuteTime": {
     "end_time": "2025-05-03T12:01:35.654092Z",
     "start_time": "2025-05-03T12:01:35.639296Z"
    }
   },
   "cell_type": "code",
   "source": "df",
   "id": "a0c0108e21c6ba83",
   "outputs": [
    {
     "data": {
      "text/plain": [
       "           m/z   intensity\n",
       "0     110.0713  29422.7891\n",
       "1     112.0868   4282.5659\n",
       "2     113.0709   1195.4149\n",
       "3     114.2358    821.0837\n",
       "4     115.0865   9551.1641\n",
       "..         ...         ...\n",
       "296  1024.4329   2124.4158\n",
       "297  1025.4358   2530.6292\n",
       "298  1026.4417   2033.2756\n",
       "299  1030.7253   1268.2054\n",
       "300  1033.4890   1368.9159\n",
       "\n",
       "[301 rows x 2 columns]"
      ],
      "text/html": [
       "<div>\n",
       "<style scoped>\n",
       "    .dataframe tbody tr th:only-of-type {\n",
       "        vertical-align: middle;\n",
       "    }\n",
       "\n",
       "    .dataframe tbody tr th {\n",
       "        vertical-align: top;\n",
       "    }\n",
       "\n",
       "    .dataframe thead th {\n",
       "        text-align: right;\n",
       "    }\n",
       "</style>\n",
       "<table border=\"1\" class=\"dataframe\">\n",
       "  <thead>\n",
       "    <tr style=\"text-align: right;\">\n",
       "      <th></th>\n",
       "      <th>m/z</th>\n",
       "      <th>intensity</th>\n",
       "    </tr>\n",
       "  </thead>\n",
       "  <tbody>\n",
       "    <tr>\n",
       "      <th>0</th>\n",
       "      <td>110.0713</td>\n",
       "      <td>29422.7891</td>\n",
       "    </tr>\n",
       "    <tr>\n",
       "      <th>1</th>\n",
       "      <td>112.0868</td>\n",
       "      <td>4282.5659</td>\n",
       "    </tr>\n",
       "    <tr>\n",
       "      <th>2</th>\n",
       "      <td>113.0709</td>\n",
       "      <td>1195.4149</td>\n",
       "    </tr>\n",
       "    <tr>\n",
       "      <th>3</th>\n",
       "      <td>114.2358</td>\n",
       "      <td>821.0837</td>\n",
       "    </tr>\n",
       "    <tr>\n",
       "      <th>4</th>\n",
       "      <td>115.0865</td>\n",
       "      <td>9551.1641</td>\n",
       "    </tr>\n",
       "    <tr>\n",
       "      <th>...</th>\n",
       "      <td>...</td>\n",
       "      <td>...</td>\n",
       "    </tr>\n",
       "    <tr>\n",
       "      <th>296</th>\n",
       "      <td>1024.4329</td>\n",
       "      <td>2124.4158</td>\n",
       "    </tr>\n",
       "    <tr>\n",
       "      <th>297</th>\n",
       "      <td>1025.4358</td>\n",
       "      <td>2530.6292</td>\n",
       "    </tr>\n",
       "    <tr>\n",
       "      <th>298</th>\n",
       "      <td>1026.4417</td>\n",
       "      <td>2033.2756</td>\n",
       "    </tr>\n",
       "    <tr>\n",
       "      <th>299</th>\n",
       "      <td>1030.7253</td>\n",
       "      <td>1268.2054</td>\n",
       "    </tr>\n",
       "    <tr>\n",
       "      <th>300</th>\n",
       "      <td>1033.4890</td>\n",
       "      <td>1368.9159</td>\n",
       "    </tr>\n",
       "  </tbody>\n",
       "</table>\n",
       "<p>301 rows × 2 columns</p>\n",
       "</div>"
      ]
     },
     "execution_count": 12,
     "metadata": {},
     "output_type": "execute_result"
    }
   ],
   "execution_count": 12
  },
  {
   "metadata": {
    "ExecuteTime": {
     "end_time": "2025-05-04T14:33:28.477596Z",
     "start_time": "2025-05-04T14:33:27.339139Z"
    }
   },
   "cell_type": "code",
   "source": "msp.generate_massspectra_plot_automatic_labels(df,peak_list,\"output\")",
   "id": "7d23e3be65eef689",
   "outputs": [
    {
     "name": "stdout",
     "output_type": "stream",
     "text": [
      "Generate PNG mass spectra plot (output.png) from            m/z   intensity\n",
      "0     110.0713  29422.7891\n",
      "1     112.0868   4282.5659\n",
      "2     113.0709   1195.4149\n",
      "3     114.2358    821.0837\n",
      "4     115.0865   9551.1641\n",
      "..         ...         ...\n",
      "296  1024.4329   2124.4158\n",
      "297  1025.4358   2530.6292\n",
      "298  1026.4417   2033.2756\n",
      "299  1030.7253   1268.2054\n",
      "300  1033.4890   1368.9159\n",
      "\n",
      "[301 rows x 2 columns].[xy/txt]\n"
     ]
    }
   ],
   "execution_count": 8
  },
  {
   "metadata": {},
   "cell_type": "code",
   "outputs": [],
   "execution_count": null,
   "source": "",
   "id": "ec0c6bd608415cfd"
  },
  {
   "metadata": {},
   "cell_type": "markdown",
   "source": "## SciPy find peaks",
   "id": "3420531f7ae22f84"
  },
  {
   "metadata": {
    "ExecuteTime": {
     "end_time": "2025-05-04T14:33:02.385618Z",
     "start_time": "2025-05-04T14:33:02.132649Z"
    }
   },
   "cell_type": "code",
   "source": [
    "import numpy as np\n",
    "import matplotlib.pyplot as plt\n",
    "from scipy.datasets import electrocardiogram\n",
    "from scipy.signal import find_peaks\n",
    "\n",
    "\n",
    "x = df[\"intensity\"]\n",
    "\n",
    "h = 100\n",
    "dist = 5\n",
    "prom = 15000\n",
    "\n",
    "peaks, _ = find_peaks(x,\n",
    "                      height=h,\n",
    "                      distance=dist,\n",
    "                      prominence=prom\n",
    "                      )\n",
    "plt.plot(x)\n",
    "plt.plot(peaks, x[peaks], \"x\")\n",
    "#plt.plot(np.zeros_like(x), \"--\", color=\"gray\")\n",
    "plt.show()"
   ],
   "id": "deecda65f6383af2",
   "outputs": [
    {
     "name": "stderr",
     "output_type": "stream",
     "text": [
      "C:\\Users\\TheSh\\AppData\\Local\\Temp\\ipykernel_15716\\1735207189.py:21: UserWarning: FigureCanvasPdf is non-interactive, and thus cannot be shown\n",
      "  plt.show()\n"
     ]
    }
   ],
   "execution_count": 5
  },
  {
   "metadata": {
    "ExecuteTime": {
     "end_time": "2025-05-04T14:34:17.002180Z",
     "start_time": "2025-05-04T14:34:16.932102Z"
    }
   },
   "cell_type": "code",
   "source": [
    "df.plot()\n",
    "sns.scatterplot(data = df.iloc[peaks].reset_index(),\n",
    "                x = \"m/z\",\n",
    "                y = \"intensity\",\n",
    "                color = \"red\", alpha = 0.5)"
   ],
   "id": "9003c4b21d6631ec",
   "outputs": [
    {
     "data": {
      "text/plain": [
       "<Axes: xlabel='m/z', ylabel='intensity'>"
      ]
     },
     "execution_count": 10,
     "metadata": {},
     "output_type": "execute_result"
    }
   ],
   "execution_count": 10
  },
  {
   "metadata": {
    "ExecuteTime": {
     "end_time": "2025-05-03T13:33:44.809946Z",
     "start_time": "2025-05-03T13:33:44.797618Z"
    }
   },
   "cell_type": "code",
   "source": "ed[2000:4000]",
   "id": "e617b4ae08a56bb5",
   "outputs": [
    {
     "data": {
      "text/plain": [
       "array([-0.9  , -0.895, -0.895, ..., -0.67 , -0.65 , -0.615])"
      ]
     },
     "execution_count": 6,
     "metadata": {},
     "output_type": "execute_result"
    }
   ],
   "execution_count": 6
  },
  {
   "metadata": {
    "ExecuteTime": {
     "end_time": "2025-05-04T14:34:06.630377Z",
     "start_time": "2025-05-04T14:34:06.578819Z"
    }
   },
   "cell_type": "code",
   "source": [
    "plt.plot(df[\"m/z\"],df[\"intensity\"])\n",
    "sns.scatterplot(data = df.iloc[peaks].reset_index(),\n",
    "                x = \"m/z\",\n",
    "                y = \"intensity\",\n",
    "                color = \"red\", alpha = 0.5)"
   ],
   "id": "deced705badf5cc3",
   "outputs": [
    {
     "data": {
      "text/plain": [
       "<Axes: xlabel='m/z', ylabel='intensity'>"
      ]
     },
     "execution_count": 9,
     "metadata": {},
     "output_type": "execute_result"
    }
   ],
   "execution_count": 9
  },
  {
   "metadata": {
    "ExecuteTime": {
     "end_time": "2025-05-04T14:33:16.359004Z",
     "start_time": "2025-05-04T14:33:16.351120Z"
    }
   },
   "cell_type": "code",
   "source": "peak_list = df.iloc[peaks].reset_index()",
   "id": "85de282fdac863fe",
   "outputs": [],
   "execution_count": 6
  },
  {
   "metadata": {
    "ExecuteTime": {
     "end_time": "2025-05-04T14:33:16.971989Z",
     "start_time": "2025-05-04T14:33:16.964715Z"
    }
   },
   "cell_type": "code",
   "source": "peak_list[\"m/z\"]",
   "id": "84f208ab4d656c21",
   "outputs": [
    {
     "data": {
      "text/plain": [
       "0     116.1281\n",
       "1     118.1348\n",
       "2     175.1187\n",
       "3     179.1486\n",
       "4     209.1030\n",
       "5     298.0965\n",
       "6     361.1824\n",
       "7     369.1334\n",
       "8     388.2525\n",
       "9     426.2089\n",
       "10    440.1704\n",
       "11    443.2355\n",
       "12    554.2130\n",
       "13    571.3187\n",
       "14    628.3151\n",
       "15    699.3516\n",
       "16    836.4102\n",
       "17    996.4399\n",
       "Name: m/z, dtype: float64"
      ]
     },
     "execution_count": 7,
     "metadata": {},
     "output_type": "execute_result"
    }
   ],
   "execution_count": 7
  },
  {
   "metadata": {},
   "cell_type": "code",
   "outputs": [],
   "execution_count": null,
   "source": "",
   "id": "b4fde7ae599b5e5e"
  }
 ],
 "metadata": {
  "kernelspec": {
   "display_name": "Python 3",
   "language": "python",
   "name": "python3"
  },
  "language_info": {
   "codemirror_mode": {
    "name": "ipython",
    "version": 2
   },
   "file_extension": ".py",
   "mimetype": "text/x-python",
   "name": "python",
   "nbconvert_exporter": "python",
   "pygments_lexer": "ipython2",
   "version": "2.7.6"
  }
 },
 "nbformat": 4,
 "nbformat_minor": 5
}
