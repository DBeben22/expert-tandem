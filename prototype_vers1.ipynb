{
 "cells": [
  {
   "metadata": {},
   "cell_type": "markdown",
   "source": [
    "# Prototype Version 1\n",
    "This code will attempt to parse data from an mzML file, <b>visualize</b> a single spectra, <b>identify</b> the peaks and based on the distances between the peaks (which are assumed to be y-ions) <b>recognize</b> the amino acid sequence of the original peptide <br>\n",
    "this will be done using the <b>DeNovo </b> approach presented by Nick Webb (https://www.weddslist.com/ms/tandem.html)\n",
    "\n",
    "At the end, in order to check my results, I will use the pyteomics.pylab_aux module to test my annotations and visualize the annotated spectrum."
   ],
   "id": "51d9082e70901421"
  },
  {
   "metadata": {
    "ExecuteTime": {
     "end_time": "2025-05-11T15:45:31.187227Z",
     "start_time": "2025-05-11T15:45:29.758470Z"
    }
   },
   "cell_type": "code",
   "source": [
    "# basic dependencies and useful math/organization\n",
    "import pandas as pd\n",
    "import numpy as np\n",
    "import matplotlib.pyplot as plt\n",
    "import seaborn as sns\n",
    "\n",
    "# to read mzML files\n",
    "from pyteomics import mzml\n",
    "\n",
    "# to visualize mzML\n",
    "from pyteomics import pylab_aux as pa, usi\n",
    "\n",
    "# to find peaks\n",
    "from scipy.signal import find_peaks\n",
    "from peakutils import indexes"
   ],
   "id": "46013f1ec94636e9",
   "outputs": [],
   "execution_count": 2
  },
  {
   "metadata": {
    "ExecuteTime": {
     "end_time": "2025-05-11T15:45:31.726896Z",
     "start_time": "2025-05-11T15:45:31.722281Z"
    }
   },
   "cell_type": "code",
   "source": [
    "# open mzML file\n",
    "file_path = 'data/2015-05-19_MRC5_a.mzML'"
   ],
   "id": "86b4b44ea9fac06b",
   "outputs": [],
   "execution_count": 3
  },
  {
   "metadata": {
    "ExecuteTime": {
     "end_time": "2025-05-11T15:45:36.633781Z",
     "start_time": "2025-05-11T15:45:33.204135Z"
    }
   },
   "cell_type": "code",
   "source": [
    "with mzml.MzML(file_path) as reader:\n",
    "    for spectrum in reader:\n",
    "        # Look for an MS/MS spectrum (ms level 2)\n",
    "        if spectrum.get('ms level') == 2:\n",
    "            print(spectrum[\"index\"])\n",
    "            # Extract relevant information\n",
    "            mz_array = spectrum['m/z array']\n",
    "            intensity_array = spectrum['intensity array']\n",
    "            precursor_mz = spectrum['precursorList']['precursor'][0]['selectedIonList']['selectedIon'][0]['selected ion m/z']\n",
    "\n",
    "            plotting_dict = {'m/z array': mz_array, 'intensity array': intensity_array}\n",
    "            break\n"
   ],
   "id": "13da0e2a40d2c850",
   "outputs": [
    {
     "name": "stdout",
     "output_type": "stream",
     "text": [
      "1\n"
     ]
    }
   ],
   "execution_count": 4
  },
  {
   "metadata": {
    "ExecuteTime": {
     "end_time": "2025-05-11T15:45:37.583491Z",
     "start_time": "2025-05-11T15:45:37.263453Z"
    }
   },
   "cell_type": "code",
   "source": [
    "s1 = pd.DataFrame(plotting_dict)\n",
    "pa.plot_spectrum(s1)"
   ],
   "id": "500c6311b680e412",
   "outputs": [
    {
     "data": {
      "text/plain": [
       "<Axes: xlabel='m/z', ylabel='intensity'>"
      ]
     },
     "execution_count": 5,
     "metadata": {},
     "output_type": "execute_result"
    },
    {
     "data": {
      "text/plain": [
       "<Figure size 640x480 with 1 Axes>"
      ],
      "image/png": "[encoded data removed]"
     },
     "metadata": {},
     "output_type": "display_data"
    }
   ],
   "execution_count": 5
  },
  {
   "metadata": {
    "ExecuteTime": {
     "end_time": "2025-05-11T15:45:38.435403Z",
     "start_time": "2025-05-11T15:45:38.425241Z"
    }
   },
   "cell_type": "code",
   "source": "s1.head()",
   "id": "6a4c7c3f3553ddf1",
   "outputs": [
    {
     "data": {
      "text/plain": [
       "    m/z array  intensity array\n",
       "0  180.776947      1240.152954\n",
       "1  186.992432      1358.319824\n",
       "2  247.723450      1477.135010\n",
       "3  257.273926      1549.758423\n",
       "4  287.695801      1326.091431"
      ],
      "text/html": [
       "<div>\n",
       "<style scoped>\n",
       "    .dataframe tbody tr th:only-of-type {\n",
       "        vertical-align: middle;\n",
       "    }\n",
       "\n",
       "    .dataframe tbody tr th {\n",
       "        vertical-align: top;\n",
       "    }\n",
       "\n",
       "    .dataframe thead th {\n",
       "        text-align: right;\n",
       "    }\n",
       "</style>\n",
       "<table border=\"1\" class=\"dataframe\">\n",
       "  <thead>\n",
       "    <tr style=\"text-align: right;\">\n",
       "      <th></th>\n",
       "      <th>m/z array</th>\n",
       "      <th>intensity array</th>\n",
       "    </tr>\n",
       "  </thead>\n",
       "  <tbody>\n",
       "    <tr>\n",
       "      <th>0</th>\n",
       "      <td>180.776947</td>\n",
       "      <td>1240.152954</td>\n",
       "    </tr>\n",
       "    <tr>\n",
       "      <th>1</th>\n",
       "      <td>186.992432</td>\n",
       "      <td>1358.319824</td>\n",
       "    </tr>\n",
       "    <tr>\n",
       "      <th>2</th>\n",
       "      <td>247.723450</td>\n",
       "      <td>1477.135010</td>\n",
       "    </tr>\n",
       "    <tr>\n",
       "      <th>3</th>\n",
       "      <td>257.273926</td>\n",
       "      <td>1549.758423</td>\n",
       "    </tr>\n",
       "    <tr>\n",
       "      <th>4</th>\n",
       "      <td>287.695801</td>\n",
       "      <td>1326.091431</td>\n",
       "    </tr>\n",
       "  </tbody>\n",
       "</table>\n",
       "</div>"
      ]
     },
     "execution_count": 6,
     "metadata": {},
     "output_type": "execute_result"
    }
   ],
   "execution_count": 6
  },
  {
   "metadata": {},
   "cell_type": "markdown",
   "source": "## finding peaks with scipy",
   "id": "7b8503ecd5876cc6"
  },
  {
   "metadata": {
    "ExecuteTime": {
     "end_time": "2025-05-11T15:45:40.645384Z",
     "start_time": "2025-05-11T15:45:40.500442Z"
    }
   },
   "cell_type": "code",
   "source": [
    "sp_height = None\n",
    "sp_dist = None\n",
    "sp_prom = None\n",
    "\n",
    "sci_peak, _ = find_peaks(s1[\"intensity array\"],\n",
    "                      height=sp_height,\n",
    "                      distance=sp_dist,\n",
    "                      prominence=sp_prom\n",
    "                      )\n",
    "sns.scatterplot(data = s1.iloc[sci_peak].reset_index(),\n",
    "                x = \"m/z array\",\n",
    "                y = \"intensity array\",\n",
    "                color = \"red\", alpha = 0.5)\n",
    "pa.plot_spectrum(plotting_dict)\n",
    "#plt.plot(np.zeros_like(x), \"--\", color=\"gray\")\n",
    "plt.show()"
   ],
   "id": "f6b2ac1bcc60c20c",
   "outputs": [
    {
     "data": {
      "text/plain": [
       "<Figure size 640x480 with 1 Axes>"
      ],
      "image/png": "[encoded data removed]"
     },
     "metadata": {},
     "output_type": "display_data"
    }
   ],
   "execution_count": 7
  },
  {
   "metadata": {
    "ExecuteTime": {
     "end_time": "2025-05-11T15:45:42.101916Z",
     "start_time": "2025-05-11T15:45:42.096152Z"
    }
   },
   "cell_type": "code",
   "source": "sci_peak",
   "id": "5b0e7b4c7b060439",
   "outputs": [
    {
     "data": {
      "text/plain": [
       "array([ 3,  5,  8, 10, 12], dtype=int64)"
      ]
     },
     "execution_count": 8,
     "metadata": {},
     "output_type": "execute_result"
    }
   ],
   "execution_count": 8
  },
  {
   "metadata": {},
   "cell_type": "markdown",
   "source": "## finding peaks with peak utils",
   "id": "8706dca6aaa2275"
  },
  {
   "metadata": {
    "ExecuteTime": {
     "end_time": "2025-05-11T15:45:44.930179Z",
     "start_time": "2025-05-11T15:45:44.751869Z"
    }
   },
   "cell_type": "code",
   "source": [
    "pu_mdist = 0\n",
    "pu_thres_ = 0\n",
    "util_peak = indexes(s1[\"intensity array\"],\n",
    "             min_dist=pu_mdist,\n",
    "             thres=pu_thres_\n",
    "             )\n",
    "pa.plot_spectrum(plotting_dict)\n",
    "sns.scatterplot(data = s1.iloc[util_peak],\n",
    "                x = \"m/z array\",\n",
    "                y = \"intensity array\",\n",
    "                color = \"red\", alpha = 0.5)"
   ],
   "id": "7312bfaed18521ee",
   "outputs": [
    {
     "data": {
      "text/plain": [
       "<Axes: xlabel='m/z', ylabel='intensity'>"
      ]
     },
     "execution_count": 9,
     "metadata": {},
     "output_type": "execute_result"
    },
    {
     "data": {
      "text/plain": [
       "<Figure size 640x480 with 1 Axes>"
      ],
      "image/png": "[encoded data removed]"
     },
     "metadata": {},
     "output_type": "display_data"
    }
   ],
   "execution_count": 9
  },
  {
   "metadata": {},
   "cell_type": "markdown",
   "source": "## reading amino acids and their weight from csv",
   "id": "9956fdabe8375f55"
  },
  {
   "metadata": {
    "ExecuteTime": {
     "end_time": "2025-05-11T16:22:00.371193Z",
     "start_time": "2025-05-11T16:22:00.364704Z"
    }
   },
   "cell_type": "code",
   "source": "aa = pd.read_csv(\"data/amino_acids_with_weight.csv\")",
   "id": "edae5236f512841a",
   "outputs": [],
   "execution_count": 106
  },
  {
   "metadata": {
    "ExecuteTime": {
     "end_time": "2025-05-11T16:22:00.910107Z",
     "start_time": "2025-05-11T16:22:00.901332Z"
    }
   },
   "cell_type": "code",
   "source": "aa.head()",
   "id": "8322235c723c0956",
   "outputs": [
    {
     "data": {
      "text/plain": [
       "      full letter short     comp  mono mass  avg mass\n",
       "0  glycine      G   GLY   C2H3NO  57.021464  57.05132\n",
       "1  alanine      A   ALA   C3H5NO  71.037114  71.07790\n",
       "2   serine      S   SER  C3H5NO2  87.032028  87.07730\n",
       "3  proline      P   PRO   C5H7NO  97.052764  97.11518\n",
       "4   valine      V   VAL   C5H9NO  99.068414  99.13106"
      ],
      "text/html": [
       "<div>\n",
       "<style scoped>\n",
       "    .dataframe tbody tr th:only-of-type {\n",
       "        vertical-align: middle;\n",
       "    }\n",
       "\n",
       "    .dataframe tbody tr th {\n",
       "        vertical-align: top;\n",
       "    }\n",
       "\n",
       "    .dataframe thead th {\n",
       "        text-align: right;\n",
       "    }\n",
       "</style>\n",
       "<table border=\"1\" class=\"dataframe\">\n",
       "  <thead>\n",
       "    <tr style=\"text-align: right;\">\n",
       "      <th></th>\n",
       "      <th>full</th>\n",
       "      <th>letter</th>\n",
       "      <th>short</th>\n",
       "      <th>comp</th>\n",
       "      <th>mono mass</th>\n",
       "      <th>avg mass</th>\n",
       "    </tr>\n",
       "  </thead>\n",
       "  <tbody>\n",
       "    <tr>\n",
       "      <th>0</th>\n",
       "      <td>glycine</td>\n",
       "      <td>G</td>\n",
       "      <td>GLY</td>\n",
       "      <td>C2H3NO</td>\n",
       "      <td>57.021464</td>\n",
       "      <td>57.05132</td>\n",
       "    </tr>\n",
       "    <tr>\n",
       "      <th>1</th>\n",
       "      <td>alanine</td>\n",
       "      <td>A</td>\n",
       "      <td>ALA</td>\n",
       "      <td>C3H5NO</td>\n",
       "      <td>71.037114</td>\n",
       "      <td>71.07790</td>\n",
       "    </tr>\n",
       "    <tr>\n",
       "      <th>2</th>\n",
       "      <td>serine</td>\n",
       "      <td>S</td>\n",
       "      <td>SER</td>\n",
       "      <td>C3H5NO2</td>\n",
       "      <td>87.032028</td>\n",
       "      <td>87.07730</td>\n",
       "    </tr>\n",
       "    <tr>\n",
       "      <th>3</th>\n",
       "      <td>proline</td>\n",
       "      <td>P</td>\n",
       "      <td>PRO</td>\n",
       "      <td>C5H7NO</td>\n",
       "      <td>97.052764</td>\n",
       "      <td>97.11518</td>\n",
       "    </tr>\n",
       "    <tr>\n",
       "      <th>4</th>\n",
       "      <td>valine</td>\n",
       "      <td>V</td>\n",
       "      <td>VAL</td>\n",
       "      <td>C5H9NO</td>\n",
       "      <td>99.068414</td>\n",
       "      <td>99.13106</td>\n",
       "    </tr>\n",
       "  </tbody>\n",
       "</table>\n",
       "</div>"
      ]
     },
     "execution_count": 107,
     "metadata": {},
     "output_type": "execute_result"
    }
   ],
   "execution_count": 107
  },
  {
   "metadata": {
    "ExecuteTime": {
     "end_time": "2025-05-11T16:22:02.748202Z",
     "start_time": "2025-05-11T16:22:02.741997Z"
    }
   },
   "cell_type": "code",
   "source": [
    "combination_list = []\n",
    "for mass1, aa1 in zip(aa[\"mono mass\"],aa[\"letter\"]):\n",
    "    for mass2, aa2 in zip(aa[\"mono mass\"],aa[\"letter\"]):\n",
    "        combination_list.append([mass1 + mass2,(aa1 + \"+\" + aa2)])\n",
    "\n",
    "combo = pd.DataFrame(combination_list, columns =[\"c_mass\",\"c_aa\"])"
   ],
   "id": "27610e8d8c641356",
   "outputs": [],
   "execution_count": 108
  },
  {
   "metadata": {
    "ExecuteTime": {
     "end_time": "2025-05-11T16:22:04.212402Z",
     "start_time": "2025-05-11T16:22:04.204453Z"
    }
   },
   "cell_type": "code",
   "source": "combo.head()",
   "id": "a81d96334846c141",
   "outputs": [
    {
     "data": {
      "text/plain": [
       "       c_mass c_aa\n",
       "0  114.042927  G+G\n",
       "1  128.058578  G+A\n",
       "2  144.053492  G+S\n",
       "3  154.074228  G+P\n",
       "4  156.089878  G+V"
      ],
      "text/html": [
       "<div>\n",
       "<style scoped>\n",
       "    .dataframe tbody tr th:only-of-type {\n",
       "        vertical-align: middle;\n",
       "    }\n",
       "\n",
       "    .dataframe tbody tr th {\n",
       "        vertical-align: top;\n",
       "    }\n",
       "\n",
       "    .dataframe thead th {\n",
       "        text-align: right;\n",
       "    }\n",
       "</style>\n",
       "<table border=\"1\" class=\"dataframe\">\n",
       "  <thead>\n",
       "    <tr style=\"text-align: right;\">\n",
       "      <th></th>\n",
       "      <th>c_mass</th>\n",
       "      <th>c_aa</th>\n",
       "    </tr>\n",
       "  </thead>\n",
       "  <tbody>\n",
       "    <tr>\n",
       "      <th>0</th>\n",
       "      <td>114.042927</td>\n",
       "      <td>G+G</td>\n",
       "    </tr>\n",
       "    <tr>\n",
       "      <th>1</th>\n",
       "      <td>128.058578</td>\n",
       "      <td>G+A</td>\n",
       "    </tr>\n",
       "    <tr>\n",
       "      <th>2</th>\n",
       "      <td>144.053492</td>\n",
       "      <td>G+S</td>\n",
       "    </tr>\n",
       "    <tr>\n",
       "      <th>3</th>\n",
       "      <td>154.074228</td>\n",
       "      <td>G+P</td>\n",
       "    </tr>\n",
       "    <tr>\n",
       "      <th>4</th>\n",
       "      <td>156.089878</td>\n",
       "      <td>G+V</td>\n",
       "    </tr>\n",
       "  </tbody>\n",
       "</table>\n",
       "</div>"
      ]
     },
     "execution_count": 109,
     "metadata": {},
     "output_type": "execute_result"
    }
   ],
   "execution_count": 109
  },
  {
   "metadata": {},
   "cell_type": "code",
   "outputs": [
    {
     "data": {
      "text/plain": [
       "412.771563708782 m/z"
      ]
     },
     "execution_count": 12,
     "metadata": {},
     "output_type": "execute_result"
    }
   ],
   "execution_count": 12,
   "source": "precursor_mz",
   "id": "70173ab56908c18e"
  },
  {
   "metadata": {},
   "cell_type": "code",
   "outputs": [
    {
     "data": {
      "text/plain": [
       "430.7792053222656"
      ]
     },
     "execution_count": 13,
     "metadata": {},
     "output_type": "execute_result"
    }
   ],
   "execution_count": 13,
   "source": "s1[\"m/z array\"].iloc[-1]",
   "id": "de21380ce9d30082"
  },
  {
   "metadata": {},
   "cell_type": "code",
   "outputs": [
    {
     "data": {
      "text/plain": [
       "   index   m/z array  intensity array\n",
       "0      3  257.273926      1549.758423\n",
       "1      5  340.798737      2547.850830\n",
       "2      8  358.790039      5367.649902\n",
       "3     10  368.775970      3170.719482\n",
       "4     12  386.785583      9180.931641"
      ],
      "text/html": [
       "<div>\n",
       "<style scoped>\n",
       "    .dataframe tbody tr th:only-of-type {\n",
       "        vertical-align: middle;\n",
       "    }\n",
       "\n",
       "    .dataframe tbody tr th {\n",
       "        vertical-align: top;\n",
       "    }\n",
       "\n",
       "    .dataframe thead th {\n",
       "        text-align: right;\n",
       "    }\n",
       "</style>\n",
       "<table border=\"1\" class=\"dataframe\">\n",
       "  <thead>\n",
       "    <tr style=\"text-align: right;\">\n",
       "      <th></th>\n",
       "      <th>index</th>\n",
       "      <th>m/z array</th>\n",
       "      <th>intensity array</th>\n",
       "    </tr>\n",
       "  </thead>\n",
       "  <tbody>\n",
       "    <tr>\n",
       "      <th>0</th>\n",
       "      <td>3</td>\n",
       "      <td>257.273926</td>\n",
       "      <td>1549.758423</td>\n",
       "    </tr>\n",
       "    <tr>\n",
       "      <th>1</th>\n",
       "      <td>5</td>\n",
       "      <td>340.798737</td>\n",
       "      <td>2547.850830</td>\n",
       "    </tr>\n",
       "    <tr>\n",
       "      <th>2</th>\n",
       "      <td>8</td>\n",
       "      <td>358.790039</td>\n",
       "      <td>5367.649902</td>\n",
       "    </tr>\n",
       "    <tr>\n",
       "      <th>3</th>\n",
       "      <td>10</td>\n",
       "      <td>368.775970</td>\n",
       "      <td>3170.719482</td>\n",
       "    </tr>\n",
       "    <tr>\n",
       "      <th>4</th>\n",
       "      <td>12</td>\n",
       "      <td>386.785583</td>\n",
       "      <td>9180.931641</td>\n",
       "    </tr>\n",
       "  </tbody>\n",
       "</table>\n",
       "</div>"
      ]
     },
     "execution_count": 14,
     "metadata": {},
     "output_type": "execute_result"
    }
   ],
   "execution_count": 14,
   "source": "s1.iloc[sci_peak].reset_index()",
   "id": "e47370b6ad68d31e"
  },
  {
   "metadata": {},
   "cell_type": "code",
   "outputs": [
    {
     "name": "stdout",
     "output_type": "stream",
     "text": [
      "distance between:  412.771563708782  and:  386.78558349609375  is:  25.985980212688276\n",
      "distance between:  386.78558349609375  and:  368.7759704589844  is:  18.009613037109375\n"
     ]
    }
   ],
   "execution_count": 16,
   "source": [
    "prev_peak = precursor_mz\n",
    "for i in range(1,3):\n",
    "    # choose peak we want to assess distance to\n",
    "    peak = s1.iloc[sci_peak].reset_index()[\"m/z array\"].iloc[-i]\n",
    "    dist = prev_peak - peak\n",
    "    print(\"distance between: \", prev_peak, \" and: \", peak, \" is: \", dist)\n",
    "\n",
    "    prev_peak = peak"
   ],
   "id": "2eaa5c4a1bd812f6"
  },
  {
   "metadata": {
    "ExecuteTime": {
     "end_time": "2025-05-11T16:24:07.138569Z",
     "start_time": "2025-05-11T16:24:07.128665Z"
    }
   },
   "cell_type": "code",
   "source": [
    "test_mass = 99\n",
    "\n",
    "def find_closest_aa(aa_df, combo_df, value,thres = 5):\n",
    "    closeness_list = []\n",
    "    # find the closest single amino acids\n",
    "    loop_for_single = True\n",
    "    while loop_for_single:\n",
    "        aam_array = np.asarray(aa_df[\"mono mass\"])\n",
    "        idx = (np.abs(aam_array - value)).argmin()\n",
    "        error = np.abs(aam_array[idx] - value)\n",
    "        name_idx = aa_df[\"letter\"].iloc[idx]\n",
    "        closeness_list.append([name_idx, aam_array[idx], error])\n",
    "        aa_df = aa_df.drop(aa_df.index[idx])\n",
    "        if error > thres:\n",
    "            loop_for_single = False\n",
    "    # find closest combination of amino acids\n",
    "    loop_for_combo = True\n",
    "    while loop_for_combo:\n",
    "        aam_array = np.asarray(combo_df[\"c_mass\"])\n",
    "        idx = (np.abs(aam_array - value)).argmin()\n",
    "        error = np.abs(aam_array[idx] - value)\n",
    "        name_idx = combo_df[\"c_aa\"].iloc[idx]\n",
    "        closeness_list.append([name_idx, aam_array[idx], error])\n",
    "        combo_df = combo_df.drop(combo_df.index[idx])\n",
    "        if error > thres:\n",
    "            loop_for_combo = False\n",
    "    # print(\"closest aa is: \", name_idx, \" ,with mass: \", aam_array[idx], \"Da. With an error of: \", error, \"Da.\")\n",
    "    return closeness_list\n",
    "\n",
    "'''\n",
    "I would love to decided a closeness factor by iterating over the weights\n",
    "and seeing how close they are to each other on average. Does this make sense?\n",
    "'''"
   ],
   "id": "da5ac278d6adb8ac",
   "outputs": [
    {
     "data": {
      "text/plain": [
       "'\\nI would love to decided a closeness factor by iterating over the weights\\nand seeing how close they are to each other on average. Does this make sense?\\n'"
      ]
     },
     "execution_count": 116,
     "metadata": {},
     "output_type": "execute_result"
    }
   ],
   "execution_count": 116
  },
  {
   "metadata": {
    "ExecuteTime": {
     "end_time": "2025-05-11T16:24:07.571422Z",
     "start_time": "2025-05-11T16:24:07.561170Z"
    }
   },
   "cell_type": "code",
   "source": "find_closest_aa(aa,combo, test_mass)",
   "id": "56f106790717e07f",
   "outputs": [
    {
     "data": {
      "text/plain": [
       "[['V', 99.068413945, 0.0684139450000032],\n",
       " ['P', 97.052763875, 1.9472361250000034],\n",
       " ['T', 101.047678505, 2.0476785049999933],\n",
       " ['C', 103.009184505, 4.009184504999993],\n",
       " ['S', 87.032028435, 11.967971565],\n",
       " ['G+G', 114.04292747, 15.042927469999995]]"
      ]
     },
     "execution_count": 117,
     "metadata": {},
     "output_type": "execute_result"
    }
   ],
   "execution_count": 117
  },
  {
   "metadata": {
    "ExecuteTime": {
     "end_time": "2025-05-11T16:15:20.547213Z",
     "start_time": "2025-05-11T16:15:20.527220Z"
    }
   },
   "cell_type": "code",
   "source": "find_n_closest_combo(combo, test_mass)",
   "id": "42d11b55befe91e9",
   "outputs": [
    {
     "data": {
      "text/plain": [
       "[['G G', 114.04292747, 15.042927469999995],\n",
       " ['G A', 128.05857754, 29.058577539999987],\n",
       " ['A G', 128.05857754, 29.058577539999987],\n",
       " ['A A', 142.07422761, 43.07422761000001],\n",
       " ['G S', 144.05349217, 45.05349217]]"
      ]
     },
     "execution_count": 84,
     "metadata": {},
     "output_type": "execute_result"
    }
   ],
   "execution_count": 84
  },
  {
   "metadata": {
    "ExecuteTime": {
     "end_time": "2025-05-11T15:57:47.763461Z",
     "start_time": "2025-05-11T15:57:47.633887Z"
    }
   },
   "cell_type": "code",
   "source": "aa[aa[\"mono mass\"] == aa[\"mono mass\"][0]]",
   "id": "d088a0f2c15ba098",
   "outputs": [
    {
     "data": {
      "text/plain": [
       "      full letter short    comp  mono mass  avg mass\n",
       "0  glycine      G   GLY  C2H3NO  57.021464  57.05132"
      ],
      "text/html": [
       "<div>\n",
       "<style scoped>\n",
       "    .dataframe tbody tr th:only-of-type {\n",
       "        vertical-align: middle;\n",
       "    }\n",
       "\n",
       "    .dataframe tbody tr th {\n",
       "        vertical-align: top;\n",
       "    }\n",
       "\n",
       "    .dataframe thead th {\n",
       "        text-align: right;\n",
       "    }\n",
       "</style>\n",
       "<table border=\"1\" class=\"dataframe\">\n",
       "  <thead>\n",
       "    <tr style=\"text-align: right;\">\n",
       "      <th></th>\n",
       "      <th>full</th>\n",
       "      <th>letter</th>\n",
       "      <th>short</th>\n",
       "      <th>comp</th>\n",
       "      <th>mono mass</th>\n",
       "      <th>avg mass</th>\n",
       "    </tr>\n",
       "  </thead>\n",
       "  <tbody>\n",
       "    <tr>\n",
       "      <th>0</th>\n",
       "      <td>glycine</td>\n",
       "      <td>G</td>\n",
       "      <td>GLY</td>\n",
       "      <td>C2H3NO</td>\n",
       "      <td>57.021464</td>\n",
       "      <td>57.05132</td>\n",
       "    </tr>\n",
       "  </tbody>\n",
       "</table>\n",
       "</div>"
      ]
     },
     "execution_count": 24,
     "metadata": {},
     "output_type": "execute_result"
    }
   ],
   "execution_count": 24
  },
  {
   "metadata": {},
   "cell_type": "code",
   "outputs": [],
   "execution_count": null,
   "source": "",
   "id": "32d48f12c39a3e71"
  }
 ],
 "metadata": {
  "kernelspec": {
   "display_name": "Python 3",
   "language": "python",
   "name": "python3"
  },
  "language_info": {
   "codemirror_mode": {
    "name": "ipython",
    "version": 2
   },
   "file_extension": ".py",
   "mimetype": "text/x-python",
   "name": "python",
   "nbconvert_exporter": "python",
   "pygments_lexer": "ipython2",
   "version": "2.7.6"
  }
 },
 "nbformat": 4,
 "nbformat_minor": 5
}
