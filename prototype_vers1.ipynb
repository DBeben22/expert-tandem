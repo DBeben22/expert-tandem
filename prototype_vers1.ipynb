{
 "cells": [
  {
   "metadata": {},
   "cell_type": "markdown",
   "source": [
    "# Prototype Version 1\n",
    "This code will attempt to parse data from an mzML file, <b>visualize</b> a single spectra, <b>identify</b> the peaks and based on the distances between the peaks (which are assumed to be y-ions) <b>recognize</b> the amino acid sequence of the original peptide <br>\n",
    "this will be done using the <b>DeNovo </b> approach presented by Nick Webb (https://www.weddslist.com/ms/tandem.html)\n",
    "\n",
    "At the end, in order to check my results, I will use the pyteomics.pylab_aux module to test my annotations and visualize the annotated spectrum."
   ],
   "id": "51d9082e70901421"
  },
  {
   "metadata": {
    "ExecuteTime": {
     "end_time": "2025-05-08T12:53:04.280231Z",
     "start_time": "2025-05-08T12:53:04.237954Z"
    }
   },
   "cell_type": "code",
   "source": [
    "# basic dependencies and useful math/organization\n",
    "import pandas as pd\n",
    "import numpy as np\n",
    "import matplotlib.pyplot as plt\n",
    "import seaborn as sns\n",
    "\n",
    "# to read mzML files\n",
    "from pyteomics import mzml\n",
    "\n",
    "# to visualize mzML\n",
    "from pyteomics import pylab_aux as pa, usi\n",
    "\n",
    "# to find peaks\n",
    "from scipy.signal import find_peaks\n",
    "from peakutils import indexes"
   ],
   "id": "46013f1ec94636e9",
   "outputs": [],
   "execution_count": 48
  },
  {
   "metadata": {
    "ExecuteTime": {
     "end_time": "2025-05-08T12:28:30.425927Z",
     "start_time": "2025-05-08T12:28:30.421379Z"
    }
   },
   "cell_type": "code",
   "source": [
    "# open mzML file\n",
    "file_path = 'data/2015-05-19_MRC5_a.mzML'"
   ],
   "id": "86b4b44ea9fac06b",
   "outputs": [],
   "execution_count": 11
  },
  {
   "metadata": {
    "ExecuteTime": {
     "end_time": "2025-05-08T12:28:53.450188Z",
     "start_time": "2025-05-08T12:28:50.606677Z"
    }
   },
   "cell_type": "code",
   "source": [
    "with mzml.MzML(file_path) as reader:\n",
    "    for spectrum in reader:\n",
    "        # Look for an MS/MS spectrum (ms level 2)\n",
    "        if spectrum.get('ms level') == 2:\n",
    "            print(spectrum[\"index\"])\n",
    "            # Extract relevant information\n",
    "            mz_array = spectrum['m/z array']\n",
    "            intensity_array = spectrum['intensity array']\n",
    "            precursor_mz = spectrum['precursorList']['precursor'][0]['selectedIonList']['selectedIon'][0]['selected ion m/z']\n",
    "\n",
    "            plotting_dict = {'m/z array': mz_array, 'intensity array': intensity_array}\n",
    "            break\n"
   ],
   "id": "13da0e2a40d2c850",
   "outputs": [
    {
     "name": "stdout",
     "output_type": "stream",
     "text": [
      "1\n"
     ]
    }
   ],
   "execution_count": 13
  },
  {
   "metadata": {
    "ExecuteTime": {
     "end_time": "2025-05-08T12:40:11.191322Z",
     "start_time": "2025-05-08T12:40:11.081979Z"
    }
   },
   "cell_type": "code",
   "source": [
    "s1 = pd.DataFrame(plotting_dict)\n",
    "pa.plot_spectrum(s1)"
   ],
   "id": "500c6311b680e412",
   "outputs": [
    {
     "data": {
      "text/plain": [
       "<Axes: xlabel='m/z', ylabel='intensity'>"
      ]
     },
     "execution_count": 32,
     "metadata": {},
     "output_type": "execute_result"
    },
    {
     "data": {
      "text/plain": [
       "<Figure size 640x480 with 1 Axes>"
      ],
      "image/png": "[encoded data removed]"
     },
     "metadata": {},
     "output_type": "display_data"
    }
   ],
   "execution_count": 32
  },
  {
   "metadata": {
    "ExecuteTime": {
     "end_time": "2025-05-09T09:50:06.391842Z",
     "start_time": "2025-05-09T09:50:06.379691Z"
    }
   },
   "cell_type": "code",
   "source": "s1.head()",
   "id": "6a4c7c3f3553ddf1",
   "outputs": [
    {
     "data": {
      "text/plain": [
       "    m/z array  intensity array\n",
       "0  180.776947      1240.152954\n",
       "1  186.992432      1358.319824\n",
       "2  247.723450      1477.135010\n",
       "3  257.273926      1549.758423\n",
       "4  287.695801      1326.091431"
      ],
      "text/html": [
       "<div>\n",
       "<style scoped>\n",
       "    .dataframe tbody tr th:only-of-type {\n",
       "        vertical-align: middle;\n",
       "    }\n",
       "\n",
       "    .dataframe tbody tr th {\n",
       "        vertical-align: top;\n",
       "    }\n",
       "\n",
       "    .dataframe thead th {\n",
       "        text-align: right;\n",
       "    }\n",
       "</style>\n",
       "<table border=\"1\" class=\"dataframe\">\n",
       "  <thead>\n",
       "    <tr style=\"text-align: right;\">\n",
       "      <th></th>\n",
       "      <th>m/z array</th>\n",
       "      <th>intensity array</th>\n",
       "    </tr>\n",
       "  </thead>\n",
       "  <tbody>\n",
       "    <tr>\n",
       "      <th>0</th>\n",
       "      <td>180.776947</td>\n",
       "      <td>1240.152954</td>\n",
       "    </tr>\n",
       "    <tr>\n",
       "      <th>1</th>\n",
       "      <td>186.992432</td>\n",
       "      <td>1358.319824</td>\n",
       "    </tr>\n",
       "    <tr>\n",
       "      <th>2</th>\n",
       "      <td>247.723450</td>\n",
       "      <td>1477.135010</td>\n",
       "    </tr>\n",
       "    <tr>\n",
       "      <th>3</th>\n",
       "      <td>257.273926</td>\n",
       "      <td>1549.758423</td>\n",
       "    </tr>\n",
       "    <tr>\n",
       "      <th>4</th>\n",
       "      <td>287.695801</td>\n",
       "      <td>1326.091431</td>\n",
       "    </tr>\n",
       "  </tbody>\n",
       "</table>\n",
       "</div>"
      ]
     },
     "execution_count": 68,
     "metadata": {},
     "output_type": "execute_result"
    }
   ],
   "execution_count": 68
  },
  {
   "metadata": {},
   "cell_type": "markdown",
   "source": "## finding peaks with scipy",
   "id": "7b8503ecd5876cc6"
  },
  {
   "metadata": {
    "ExecuteTime": {
     "end_time": "2025-05-09T09:51:11.187805Z",
     "start_time": "2025-05-09T09:51:10.785508Z"
    }
   },
   "cell_type": "code",
   "source": [
    "sp_height = None\n",
    "sp_dist = None\n",
    "sp_prom = None\n",
    "\n",
    "sci_peak, _ = find_peaks(s1[\"intensity array\"],\n",
    "                      height=sp_height,\n",
    "                      distance=sp_dist,\n",
    "                      prominence=sp_prom\n",
    "                      )\n",
    "sns.scatterplot(data = s1.iloc[sci_peak].reset_index(),\n",
    "                x = \"m/z array\",\n",
    "                y = \"intensity array\",\n",
    "                color = \"red\", alpha = 0.5)\n",
    "pa.plot_spectrum(plotting_dict)\n",
    "#plt.plot(np.zeros_like(x), \"--\", color=\"gray\")\n",
    "plt.show()"
   ],
   "id": "f6b2ac1bcc60c20c",
   "outputs": [
    {
     "data": {
      "text/plain": [
       "<Figure size 640x480 with 1 Axes>"
      ],
      "image/png": "[encoded data removed]"
     },
     "metadata": {},
     "output_type": "display_data"
    }
   ],
   "execution_count": 69
  },
  {
   "metadata": {
    "ExecuteTime": {
     "end_time": "2025-05-09T09:51:13.091329Z",
     "start_time": "2025-05-09T09:51:13.081536Z"
    }
   },
   "cell_type": "code",
   "source": "sci_peak",
   "id": "5b0e7b4c7b060439",
   "outputs": [
    {
     "data": {
      "text/plain": [
       "array([ 3,  5,  8, 10, 12], dtype=int64)"
      ]
     },
     "execution_count": 70,
     "metadata": {},
     "output_type": "execute_result"
    }
   ],
   "execution_count": 70
  },
  {
   "metadata": {},
   "cell_type": "markdown",
   "source": "## finding peaks with peak utils",
   "id": "8706dca6aaa2275"
  },
  {
   "metadata": {
    "ExecuteTime": {
     "end_time": "2025-05-09T09:51:27.787437Z",
     "start_time": "2025-05-09T09:51:27.623979Z"
    }
   },
   "cell_type": "code",
   "source": [
    "pu_mdist = 0\n",
    "pu_thres_ = 0\n",
    "util_peak = indexes(s1[\"intensity array\"],\n",
    "             min_dist=pu_mdist,\n",
    "             thres=pu_thres_\n",
    "             )\n",
    "pa.plot_spectrum(plotting_dict)\n",
    "sns.scatterplot(data = s1.iloc[util_peak],\n",
    "                x = \"m/z array\",\n",
    "                y = \"intensity array\",\n",
    "                color = \"red\", alpha = 0.5)"
   ],
   "id": "7312bfaed18521ee",
   "outputs": [
    {
     "data": {
      "text/plain": [
       "<Axes: xlabel='m/z', ylabel='intensity'>"
      ]
     },
     "execution_count": 71,
     "metadata": {},
     "output_type": "execute_result"
    },
    {
     "data": {
      "text/plain": [
       "<Figure size 640x480 with 1 Axes>"
      ],
      "image/png": "[encoded data removed]"
     },
     "metadata": {},
     "output_type": "display_data"
    }
   ],
   "execution_count": 71
  },
  {
   "metadata": {},
   "cell_type": "markdown",
   "source": "## reading amino acids and their weight from csv",
   "id": "9956fdabe8375f55"
  },
  {
   "metadata": {
    "ExecuteTime": {
     "end_time": "2025-05-09T09:49:11.041615Z",
     "start_time": "2025-05-09T09:49:10.963836Z"
    }
   },
   "cell_type": "code",
   "source": "aa = pd.read_csv(\"data/amino_acids_with_weight.csv\")",
   "id": "edae5236f512841a",
   "outputs": [],
   "execution_count": 66
  },
  {
   "metadata": {
    "ExecuteTime": {
     "end_time": "2025-05-09T09:49:11.075344Z",
     "start_time": "2025-05-09T09:49:11.045150Z"
    }
   },
   "cell_type": "code",
   "source": "aa.head()",
   "id": "8322235c723c0956",
   "outputs": [
    {
     "data": {
      "text/plain": [
       "      full letter short     comp  mono mass  avg mass\n",
       "0  glycine      G   GLY   C2H3NO  57.021464  57.05132\n",
       "1  alanine      A   ALA   C3H5NO  71.037114  71.07790\n",
       "2   serine      S   SER  C3H5NO2  87.032028  87.07730\n",
       "3  proline      P   PRO   C5H7NO  97.052764  97.11518\n",
       "4   valine      V   VAL   C5H9NO  99.068414  99.13106"
      ],
      "text/html": [
       "<div>\n",
       "<style scoped>\n",
       "    .dataframe tbody tr th:only-of-type {\n",
       "        vertical-align: middle;\n",
       "    }\n",
       "\n",
       "    .dataframe tbody tr th {\n",
       "        vertical-align: top;\n",
       "    }\n",
       "\n",
       "    .dataframe thead th {\n",
       "        text-align: right;\n",
       "    }\n",
       "</style>\n",
       "<table border=\"1\" class=\"dataframe\">\n",
       "  <thead>\n",
       "    <tr style=\"text-align: right;\">\n",
       "      <th></th>\n",
       "      <th>full</th>\n",
       "      <th>letter</th>\n",
       "      <th>short</th>\n",
       "      <th>comp</th>\n",
       "      <th>mono mass</th>\n",
       "      <th>avg mass</th>\n",
       "    </tr>\n",
       "  </thead>\n",
       "  <tbody>\n",
       "    <tr>\n",
       "      <th>0</th>\n",
       "      <td>glycine</td>\n",
       "      <td>G</td>\n",
       "      <td>GLY</td>\n",
       "      <td>C2H3NO</td>\n",
       "      <td>57.021464</td>\n",
       "      <td>57.05132</td>\n",
       "    </tr>\n",
       "    <tr>\n",
       "      <th>1</th>\n",
       "      <td>alanine</td>\n",
       "      <td>A</td>\n",
       "      <td>ALA</td>\n",
       "      <td>C3H5NO</td>\n",
       "      <td>71.037114</td>\n",
       "      <td>71.07790</td>\n",
       "    </tr>\n",
       "    <tr>\n",
       "      <th>2</th>\n",
       "      <td>serine</td>\n",
       "      <td>S</td>\n",
       "      <td>SER</td>\n",
       "      <td>C3H5NO2</td>\n",
       "      <td>87.032028</td>\n",
       "      <td>87.07730</td>\n",
       "    </tr>\n",
       "    <tr>\n",
       "      <th>3</th>\n",
       "      <td>proline</td>\n",
       "      <td>P</td>\n",
       "      <td>PRO</td>\n",
       "      <td>C5H7NO</td>\n",
       "      <td>97.052764</td>\n",
       "      <td>97.11518</td>\n",
       "    </tr>\n",
       "    <tr>\n",
       "      <th>4</th>\n",
       "      <td>valine</td>\n",
       "      <td>V</td>\n",
       "      <td>VAL</td>\n",
       "      <td>C5H9NO</td>\n",
       "      <td>99.068414</td>\n",
       "      <td>99.13106</td>\n",
       "    </tr>\n",
       "  </tbody>\n",
       "</table>\n",
       "</div>"
      ]
     },
     "execution_count": 67,
     "metadata": {},
     "output_type": "execute_result"
    }
   ],
   "execution_count": 67
  },
  {
   "metadata": {
    "ExecuteTime": {
     "end_time": "2025-05-09T09:52:52.138411Z",
     "start_time": "2025-05-09T09:52:52.130838Z"
    }
   },
   "cell_type": "code",
   "source": "precursor_mz",
   "id": "70173ab56908c18e",
   "outputs": [
    {
     "data": {
      "text/plain": [
       "412.771563708782 m/z"
      ]
     },
     "execution_count": 72,
     "metadata": {},
     "output_type": "execute_result"
    }
   ],
   "execution_count": 72
  },
  {
   "metadata": {
    "ExecuteTime": {
     "end_time": "2025-05-09T10:01:38.720136Z",
     "start_time": "2025-05-09T10:01:38.710475Z"
    }
   },
   "cell_type": "code",
   "source": "s1[\"m/z array\"].iloc[-1]",
   "id": "de21380ce9d30082",
   "outputs": [
    {
     "data": {
      "text/plain": [
       "430.7792053222656"
      ]
     },
     "execution_count": 80,
     "metadata": {},
     "output_type": "execute_result"
    }
   ],
   "execution_count": 80
  },
  {
   "metadata": {
    "ExecuteTime": {
     "end_time": "2025-05-09T10:17:50.324280Z",
     "start_time": "2025-05-09T10:17:50.266776Z"
    }
   },
   "cell_type": "code",
   "source": "s1.iloc[sci_peak].reset_index()",
   "id": "e47370b6ad68d31e",
   "outputs": [
    {
     "data": {
      "text/plain": [
       "   index   m/z array  intensity array\n",
       "0      3  257.273926      1549.758423\n",
       "1      5  340.798737      2547.850830\n",
       "2      8  358.790039      5367.649902\n",
       "3     10  368.775970      3170.719482\n",
       "4     12  386.785583      9180.931641"
      ],
      "text/html": [
       "<div>\n",
       "<style scoped>\n",
       "    .dataframe tbody tr th:only-of-type {\n",
       "        vertical-align: middle;\n",
       "    }\n",
       "\n",
       "    .dataframe tbody tr th {\n",
       "        vertical-align: top;\n",
       "    }\n",
       "\n",
       "    .dataframe thead th {\n",
       "        text-align: right;\n",
       "    }\n",
       "</style>\n",
       "<table border=\"1\" class=\"dataframe\">\n",
       "  <thead>\n",
       "    <tr style=\"text-align: right;\">\n",
       "      <th></th>\n",
       "      <th>index</th>\n",
       "      <th>m/z array</th>\n",
       "      <th>intensity array</th>\n",
       "    </tr>\n",
       "  </thead>\n",
       "  <tbody>\n",
       "    <tr>\n",
       "      <th>0</th>\n",
       "      <td>3</td>\n",
       "      <td>257.273926</td>\n",
       "      <td>1549.758423</td>\n",
       "    </tr>\n",
       "    <tr>\n",
       "      <th>1</th>\n",
       "      <td>5</td>\n",
       "      <td>340.798737</td>\n",
       "      <td>2547.850830</td>\n",
       "    </tr>\n",
       "    <tr>\n",
       "      <th>2</th>\n",
       "      <td>8</td>\n",
       "      <td>358.790039</td>\n",
       "      <td>5367.649902</td>\n",
       "    </tr>\n",
       "    <tr>\n",
       "      <th>3</th>\n",
       "      <td>10</td>\n",
       "      <td>368.775970</td>\n",
       "      <td>3170.719482</td>\n",
       "    </tr>\n",
       "    <tr>\n",
       "      <th>4</th>\n",
       "      <td>12</td>\n",
       "      <td>386.785583</td>\n",
       "      <td>9180.931641</td>\n",
       "    </tr>\n",
       "  </tbody>\n",
       "</table>\n",
       "</div>"
      ]
     },
     "execution_count": 87,
     "metadata": {},
     "output_type": "execute_result"
    }
   ],
   "execution_count": 87
  },
  {
   "metadata": {
    "ExecuteTime": {
     "end_time": "2025-05-09T10:18:52.344365Z",
     "start_time": "2025-05-09T10:18:52.335511Z"
    }
   },
   "cell_type": "code",
   "source": [
    "prev_peak = precursor_mz\n",
    "for i in range(1,3):\n",
    "    # choose peak we want to assess distance to\n",
    "    # peak = s1.iloc[sci_peak].reset_index()[\"m/z array\"].iloc[-i]\n",
    "    dist = prev_peak - peak\n",
    "    print(\"distance between: \", prev_peak, \" and: \", peak, \" is: \", dist)\n",
    "\n",
    "    prev_peak = peak"
   ],
   "id": "2eaa5c4a1bd812f6",
   "outputs": [
    {
     "name": "stdout",
     "output_type": "stream",
     "text": [
      "distance between:  412.771563708782  and:  386.78558349609375  is:  25.985980212688276\n",
      "distance between:  386.78558349609375  and:  368.7759704589844  is:  18.009613037109375\n"
     ]
    }
   ],
   "execution_count": 89
  },
  {
   "metadata": {
    "ExecuteTime": {
     "end_time": "2025-05-09T10:38:41.901703Z",
     "start_time": "2025-05-09T10:38:41.894483Z"
    }
   },
   "cell_type": "code",
   "source": [
    "test_mass = 99.068414\n",
    "\n",
    "def find_closest_aa(aa_df, value):\n",
    "    aam_array = np.asarray(aa_df[\"mono mass\"])\n",
    "    idx = (np.abs(aam_array - value)).argmin()\n",
    "    name_idx = aa_df[\"full\"].iloc[idx]\n",
    "    print(\"closest aa is: \", name_idx, \" ,with mass: \", aam_array[idx], \"Da\")\n",
    "    return aam_array[idx]\n"
   ],
   "id": "da5ac278d6adb8ac",
   "outputs": [],
   "execution_count": 102
  },
  {
   "metadata": {
    "ExecuteTime": {
     "end_time": "2025-05-09T10:38:42.806802Z",
     "start_time": "2025-05-09T10:38:42.800740Z"
    }
   },
   "cell_type": "code",
   "source": "find_closest_aa(aa, test_mass)",
   "id": "56f106790717e07f",
   "outputs": [
    {
     "name": "stdout",
     "output_type": "stream",
     "text": [
      "closest aa is:  valine  ,with mass:  99.068413945 Da\n"
     ]
    },
    {
     "data": {
      "text/plain": [
       "99.068413945"
      ]
     },
     "execution_count": 103,
     "metadata": {},
     "output_type": "execute_result"
    }
   ],
   "execution_count": 103
  },
  {
   "metadata": {},
   "cell_type": "code",
   "outputs": [],
   "execution_count": null,
   "source": "",
   "id": "27610e8d8c641356"
  }
 ],
 "metadata": {
  "kernelspec": {
   "display_name": "Python 3",
   "language": "python",
   "name": "python3"
  },
  "language_info": {
   "codemirror_mode": {
    "name": "ipython",
    "version": 2
   },
   "file_extension": ".py",
   "mimetype": "text/x-python",
   "name": "python",
   "nbconvert_exporter": "python",
   "pygments_lexer": "ipython2",
   "version": "2.7.6"
  }
 },
 "nbformat": 4,
 "nbformat_minor": 5
}
